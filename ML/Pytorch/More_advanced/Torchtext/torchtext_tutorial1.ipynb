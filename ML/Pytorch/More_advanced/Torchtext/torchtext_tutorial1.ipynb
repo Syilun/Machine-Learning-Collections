{
  "nbformat": 4,
  "nbformat_minor": 0,
  "metadata": {
    "colab": {
      "name": "torchtext_tutorial1.ipynb",
      "provenance": [],
      "authorship_tag": "ABX9TyPJ582fiW9RZj9VJRswYW+B",
      "include_colab_link": true
    },
    "kernelspec": {
      "name": "python3",
      "display_name": "Python 3"
    },
    "language_info": {
      "name": "python"
    }
  },
  "cells": [
    {
      "cell_type": "markdown",
      "metadata": {
        "id": "view-in-github",
        "colab_type": "text"
      },
      "source": [
        "<a href=\"https://colab.research.google.com/github/Syilun/Machine-Learning-Collections/blob/main/ML/Pytorch/More_advanced/Torchtext/torchtext_tutorial1.ipynb\" target=\"_parent\"><img src=\"https://colab.research.google.com/assets/colab-badge.svg\" alt=\"Open In Colab\"/></a>"
      ]
    },
    {
      "cell_type": "code",
      "metadata": {
        "id": "3970iwq6QNa4"
      },
      "source": [
        "import torch\n",
        "import torch.nn as nn\n",
        "import torch.optim as optim\n",
        "import spacy\n",
        "from torchtext.legacy.data import Field, TabularDataset, BucketIterator\n"
      ],
      "execution_count": 15,
      "outputs": []
    },
    {
      "cell_type": "code",
      "metadata": {
        "colab": {
          "base_uri": "https://localhost:8080/"
        },
        "id": "cZBqdRX8S-Ja",
        "outputId": "35f00493-3077-4be4-bfdf-06ff350d0b17"
      },
      "source": [
        "######### Loading from JSON/CSV/TSV files #########\n",
        "\n",
        "# STEPS:\n",
        "# 1. Specify how preprocessing should be done -> Fields\n",
        "# 2. Use Dataset to load the data -> TabularDataset (JSON/CSV/TSV Files)\n",
        "# 3. Construct an iterator to do batching & padding -> BucketIterator\n",
        "\n",
        "device = torch.device(\"cuda\" if torch.cuda.is_available() else \"cpu\")\n",
        "\n",
        "# python -m spacy download en\n",
        "spacy_en = spacy.load(\"en\")\n",
        "\n",
        "\n",
        "def tokenize(text):\n",
        "    return [tok.text for tok in spacy_en.tokenizer(text)]\n",
        "\n",
        "\n",
        "quote = Field(sequential=True, use_vocab=True, tokenize=tokenize, lower=True)\n",
        "score = Field(sequential=False, use_vocab=False)\n",
        "\n",
        "fields = {\"quote\": (\"q\", quote), \"score\": (\"s\", score)}\n",
        "\n",
        "train_data, test_data = TabularDataset.splits(\n",
        "    path=\"mydata\", train=\"train.json\", test=\"test.json\", format=\"json\", fields=fields\n",
        ")\n",
        "\n",
        "# # train_data, test_data = TabularDataset.splits(\n",
        "# #                                         path='mydata',\n",
        "# #                                         train='train.csv',\n",
        "# #                                         test='test.csv',\n",
        "# #                                         format='csv',\n",
        "# #                                         fields=fields)\n",
        "\n",
        "# # train_data, test_data = TabularDataset.splits(\n",
        "# #                                         path='mydata',\n",
        "# #                                         train='train.tsv',\n",
        "# #                                         test='test.tsv',\n",
        "# #                                         format='tsv',\n",
        "# #                                         fields=fields)\n",
        "\n",
        "quote.build_vocab(train_data, max_size=10000, min_freq=1, vectors=\"glove.6B.100d\")\n",
        "\n",
        "train_iterator, test_iterator = BucketIterator.splits(\n",
        "    (train_data, test_data), batch_size=2, device=device\n",
        ")\n"
      ],
      "execution_count": 16,
      "outputs": [
        {
          "output_type": "stream",
          "name": "stderr",
          "text": [
            ".vector_cache/glove.6B.zip: 862MB [02:39, 5.40MB/s]                           \n",
            "100%|█████████▉| 399999/400000 [00:17<00:00, 22490.11it/s]\n"
          ]
        }
      ]
    },
    {
      "cell_type": "code",
      "metadata": {
        "id": "WJ2GC195VMHu"
      },
      "source": [
        "######### Training a simple LSTM on this toy data of ours #########\n",
        "class RNN_LSTM(nn.Module):\n",
        "    def __init__(self, input_size, embed_size, hidden_size, num_layers):\n",
        "        super(RNN_LSTM, self).__init__()\n",
        "        self.hidden_size = hidden_size\n",
        "        self.num_layers = num_layers\n",
        "\n",
        "        self.embedding = nn.Embedding(input_size, embed_size)\n",
        "        self.rnn = nn.LSTM(embed_size, hidden_size, num_layers)\n",
        "        self.fc_out = nn.Linear(hidden_size, 1)\n",
        "\n",
        "    def forward(self, x):\n",
        "        # Set initial hidden and cell states\n",
        "        h0 = torch.zeros(self.num_layers, x.size(1), self.hidden_size).to(device)\n",
        "        c0 = torch.zeros(self.num_layers, x.size(1), self.hidden_size).to(device)\n",
        "\n",
        "        embedded = self.embedding(x)\n",
        "        outputs, _ = self.rnn(embedded, (h0, c0))\n",
        "        prediction = self.fc_out(outputs[-1, :, :])\n",
        "\n",
        "        return prediction\n",
        "\n"
      ],
      "execution_count": 17,
      "outputs": []
    },
    {
      "cell_type": "code",
      "metadata": {
        "id": "y-4bjomEWFBn"
      },
      "source": [
        "# Hyperparameters\n",
        "input_size = len(quote.vocab)\n",
        "hidden_size = 512\n",
        "num_layers = 2\n",
        "embedding_size = 100\n",
        "learning_rate = 0.005\n",
        "num_epochs = 10\n"
      ],
      "execution_count": 18,
      "outputs": []
    },
    {
      "cell_type": "code",
      "metadata": {
        "id": "h79ODsiXWF8n"
      },
      "source": [
        "# Initialize network\n",
        "model = RNN_LSTM(input_size, embedding_size, hidden_size, num_layers).to(device)\n"
      ],
      "execution_count": 19,
      "outputs": []
    },
    {
      "cell_type": "code",
      "metadata": {
        "colab": {
          "base_uri": "https://localhost:8080/"
        },
        "id": "nnZFEmO1WHs_",
        "outputId": "39f03aa8-fc8b-4674-cc42-e875f8b74f01"
      },
      "source": [
        "# (NOT COVERED IN YOUTUBE VIDEO): Load the pretrained embeddings onto our model\n",
        "pretrained_embeddings = quote.vocab.vectors\n",
        "model.embedding.weight.data.copy_(pretrained_embeddings)\n"
      ],
      "execution_count": 20,
      "outputs": [
        {
          "output_type": "execute_result",
          "data": {
            "text/plain": [
              "tensor([[ 0.0000,  0.0000,  0.0000,  ...,  0.0000,  0.0000,  0.0000],\n",
              "        [ 0.0000,  0.0000,  0.0000,  ...,  0.0000,  0.0000,  0.0000],\n",
              "        [-0.3398,  0.2094,  0.4635,  ..., -0.2339,  0.4730, -0.0288],\n",
              "        ...,\n",
              "        [ 0.4918,  1.1164,  1.1424,  ..., -0.5088,  0.6256,  0.4392],\n",
              "        [-0.4989,  0.7660,  0.8975,  ..., -0.4118,  0.4054,  0.7850],\n",
              "        [-0.5718,  0.0463,  0.8673,  ..., -0.3566,  0.9293,  0.8995]])"
            ]
          },
          "metadata": {},
          "execution_count": 20
        }
      ]
    },
    {
      "cell_type": "code",
      "metadata": {
        "id": "RRw7k8fKWKHZ"
      },
      "source": [
        "# Loss and optimizer\n",
        "criterion = nn.BCEWithLogitsLoss()\n",
        "optimizer = optim.Adam(model.parameters(), lr=learning_rate)\n"
      ],
      "execution_count": 21,
      "outputs": []
    },
    {
      "cell_type": "code",
      "metadata": {
        "id": "6BafZGTUWOC1"
      },
      "source": [
        "# Train Network\n",
        "for epoch in range(num_epochs):\n",
        "    for batch_idx, batch in enumerate(train_iterator):\n",
        "        # Get data to cuda if possible\n",
        "        data = batch.q.to(device=device)\n",
        "        targets = batch.s.to(device=device)\n",
        "\n",
        "        # forward\n",
        "        scores = model(data)\n",
        "        loss = criterion(scores.squeeze(1), targets.type_as(scores))\n",
        "\n",
        "        # backward\n",
        "        optimizer.zero_grad()\n",
        "        loss.backward()\n",
        "\n",
        "        # gradient descent\n",
        "        optimizer.step()"
      ],
      "execution_count": 22,
      "outputs": []
    },
    {
      "cell_type": "code",
      "metadata": {
        "id": "xldGPBm3WSr_"
      },
      "source": [
        ""
      ],
      "execution_count": null,
      "outputs": []
    }
  ]
}